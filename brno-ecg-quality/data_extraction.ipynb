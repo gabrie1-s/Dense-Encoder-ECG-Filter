{
 "cells": [
  {
   "cell_type": "code",
   "execution_count": 11,
   "metadata": {},
   "outputs": [],
   "source": [
    "import os\n",
    "import glob\n",
    "import pickle\n",
    "import pdb\n",
    "import ray\n",
    "import wfdb\n",
    "import csv\n",
    "import pandas as pd\n",
    "from scipy import signal"
   ]
  },
  {
   "cell_type": "code",
   "execution_count": 3,
   "metadata": {},
   "outputs": [],
   "source": [
    "def read_dat_files(directory):\n",
    "    dat_files = glob.glob(os.path.join(directory, '**', '*.dat'), recursive=True)\n",
    "    files = {}\n",
    "    \n",
    "    for file_path in dat_files:\n",
    "        if file_path.split('/')[-1].split('_')[1] == 'ECG.dat':\n",
    "            record_name = os.path.splitext(file_path)[0]\n",
    "            record = wfdb.rdrecord(record_name)\n",
    "            content = record.p_signal[:, 0]\n",
    "            # pdb.set_trace()\n",
    "            path = file_path.split('/')[-1].split('_')[0]\n",
    "            files.update({path:content})\n",
    "    return files    \n",
    "\n",
    "# Example usage:\n",
    "directory = '/home/insightlab/Documents/ECG Quality/brno-university-of-technology-ecg-quality-database-but-qdb-1.0.0'\n",
    "files = read_dat_files(directory)"
   ]
  },
  {
   "cell_type": "code",
   "execution_count": 4,
   "metadata": {},
   "outputs": [
    {
     "name": "stderr",
     "output_type": "stream",
     "text": [
      "/tmp/ipykernel_72056/3140899762.py:14: FutureWarning: The behavior of DataFrame concatenation with empty or all-NA entries is deprecated. In a future version, this will no longer exclude empty or all-NA columns when determining the result dtypes. To retain the old behavior, exclude the relevant entries before the concat operation.\n",
      "  files =  pd.concat([files, df], ignore_index=True)\n"
     ]
    }
   ],
   "source": [
    "def read_ann(directory):\n",
    "    dat_files = glob.glob(os.path.join(directory, '**', '*.csv'), recursive=True)\n",
    "    files = pd.DataFrame(columns=['record','ini_cons', 'end_cons', 'label_cons'])\n",
    "    \n",
    "    for file_path in dat_files:\n",
    "        path = file_path.split('/')[-1].split('_')[0]\n",
    "        if path != 'subject-info.csv':\n",
    "            df = pd.read_csv(file_path, header=None)\n",
    "            df.dropna(inplace=True)\n",
    "            df = df[df.columns[-3:]]\n",
    "            df.columns = ['ini_cons', 'end_cons', 'label_cons']\n",
    "            df.drop(df[df['label_cons'] == 0].index, inplace = True)\n",
    "            df['record'] = path\n",
    "            files =  pd.concat([files, df], ignore_index=True)\n",
    "    return files    \n",
    "\n",
    "# Example usage:\n",
    "directory = '/home/insightlab/Documents/ECG Quality/brno-university-of-technology-ecg-quality-database-but-qdb-1.0.0'\n",
    "annotations = read_ann(directory)"
   ]
  },
  {
   "cell_type": "code",
   "execution_count": 13,
   "metadata": {},
   "outputs": [
    {
     "name": "stdout",
     "output_type": "stream",
     "text": [
      "Windows data saved to windows_data.pkl\n"
     ]
    }
   ],
   "source": [
    "sf = 1000\n",
    "new_sf = 125\n",
    "\n",
    "with open('windows_data.pkl', 'ab') as pickle_file:  # 'ab' mode for appending in binary\n",
    "    for path, sgn in files.items():\n",
    "        df = annotations[annotations['record'] == path]\n",
    "        \n",
    "        for index, row in df.iterrows():\n",
    "            k = int(row['ini_cons'])\n",
    "    \n",
    "            while k + 10 * sf < int(row['end_cons']):\n",
    "                ini = k\n",
    "                k += 10 * sf\n",
    "                resampled_signal = signal.resample(sgn[ini:k], new_sf*10)\n",
    "                \n",
    "                record = {\n",
    "                    'record': path,\n",
    "                    'window': resampled_signal.tolist(),\n",
    "                    'label': row['label_cons']\n",
    "                }\n",
    "                \n",
    "                pickle.dump(record, pickle_file)\n",
    "\n",
    "print(\"Windows data saved to windows_data.pkl\")"
   ]
  }
 ],
 "metadata": {
  "kernelspec": {
   "display_name": "Python 3",
   "language": "python",
   "name": "python3"
  },
  "language_info": {
   "codemirror_mode": {
    "name": "ipython",
    "version": 3
   },
   "file_extension": ".py",
   "mimetype": "text/x-python",
   "name": "python",
   "nbconvert_exporter": "python",
   "pygments_lexer": "ipython3",
   "version": "3.10.12"
  }
 },
 "nbformat": 4,
 "nbformat_minor": 2
}
